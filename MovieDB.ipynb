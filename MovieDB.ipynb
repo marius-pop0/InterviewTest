{
 "cells": [
  {
   "cell_type": "code",
   "execution_count": 1,
   "metadata": {
    "pycharm": {
     "is_executing": false
    }
   },
   "outputs": [],
   "source": [
    "from imdb import IMDb\n",
    "import pandas as pd\n",
    "import numpy as np\n",
    "import tmdbsimple as tmdb\n",
    "import matplotlib.pyplot as plt\n",
    "import seaborn as sns\n",
    "from scipy.stats.stats import linregress\n",
    "\n",
    "tmdb.API_KEY = 'efca6d2510906bd92e1f9d6955c5ca9b'\n",
    "ia = IMDb()\n"
   ]
  },
  {
   "cell_type": "markdown",
   "metadata": {},
   "source": [
    "Querry the tmdb and imdb websites to retrive each movies rating according to the larger sample size. Some movies were not found accrding to the provided links. NaN values placed for those movies.\n",
    "\n",
    "tmdb - utilize the api and retreive wach movie's rating and genere\n",
    "tmdb - utilize the python library IMDb which just make a get request to the website and reads the json data on the webpage"
   ]
  },
  {
   "cell_type": "code",
   "execution_count": 3,
   "metadata": {
    "pycharm": {
     "is_executing": false,
     "metadata": false,
     "name": "#%% THE MOVIE DB API CALLS\n"
    }
   },
   "outputs": [],
   "source": [
    "def makeRequestTMDB(movieID):\n",
    "    try:\n",
    "        response = tmdb.Movies(movieID).info()\n",
    "        rating = response['vote_average']/2 #make the raing out of 5 to match dataset\n",
    "        genre = ''\n",
    "        g = response['genres'][:]\n",
    "        for gen in g:\n",
    "            genre+=gen['name']+'|'\n",
    "        \n",
    "        genre = genre[:-1]\n",
    "        # print(\"The rating is: {}\".format(rating))\n",
    "        # print(\"The genres are: {}\".format(genre))\n",
    "        return rating,genre\n",
    "    except:\n",
    "        return np.NaN,np.NaN\n",
    "    \n",
    "#print(makeRequestTMDB(19199129)) "
   ]
  },
  {
   "cell_type": "code",
   "execution_count": 4,
   "metadata": {
    "pycharm": {
     "is_executing": false,
     "metadata": false,
     "name": "#%% THE IMDB CALLS\n"
    }
   },
   "outputs": [],
   "source": [
    "\n",
    "def makeRequestIMDB(movieID):\n",
    "    try:\n",
    "        matrix = ia.get_movie(movieID)\n",
    "        rating = matrix['rating']/2\n",
    "        g =   matrix['genres']\n",
    "        genre = ''\n",
    "        for gen in g:\n",
    "            genre+=gen+'|'\n",
    "        \n",
    "        genre = genre[:-1]\n",
    "        # print(\"The rating is: {}\".format(rating))\n",
    "        # print(\"The genres are: {}\".format(genre))\n",
    "    \n",
    "        return rating,genre\n",
    "    except:\n",
    "        return np.NaN,np.NaN\n",
    "    \n",
    "#print(makeRequestIMDB(292923))"
   ]
  },
  {
   "cell_type": "code",
   "execution_count": 3,
   "metadata": {
    "pycharm": {
     "is_executing": false,
     "metadata": false,
     "name": "#%% Build a better links database\n"
    }
   },
   "outputs": [
    {
     "ename": "NameError",
     "evalue": "name 'makeRequestIMDB' is not defined",
     "output_type": "error",
     "traceback": [
      "\u001b[0;31m---------------------------------------------------------------------------\u001b[0m",
      "\u001b[0;31mNameError\u001b[0m                                 Traceback (most recent call last)",
      "\u001b[0;32m<ipython-input-3-2c4e754b6590>\u001b[0m in \u001b[0;36m<module>\u001b[0;34m\u001b[0m\n\u001b[1;32m      1\u001b[0m \u001b[0mlinks\u001b[0m \u001b[0;34m=\u001b[0m \u001b[0mpd\u001b[0m\u001b[0;34m.\u001b[0m\u001b[0mread_csv\u001b[0m\u001b[0;34m(\u001b[0m\u001b[0;34m\"links.csv\"\u001b[0m\u001b[0;34m,\u001b[0m\u001b[0mdelimiter\u001b[0m\u001b[0;34m=\u001b[0m\u001b[0;34m\",\"\u001b[0m\u001b[0;34m,\u001b[0m\u001b[0mheader\u001b[0m\u001b[0;34m=\u001b[0m\u001b[0;36m0\u001b[0m\u001b[0;34m)\u001b[0m\u001b[0;34m\u001b[0m\u001b[0;34m\u001b[0m\u001b[0m\n\u001b[1;32m      2\u001b[0m \u001b[0;34m\u001b[0m\u001b[0m\n\u001b[0;32m----> 3\u001b[0;31m \u001b[0mlinks\u001b[0m\u001b[0;34m[\u001b[0m\u001b[0;34m'imdb_rating'\u001b[0m\u001b[0;34m]\u001b[0m\u001b[0;34m,\u001b[0m \u001b[0mlinks\u001b[0m\u001b[0;34m[\u001b[0m\u001b[0;34m'imdb_genre'\u001b[0m\u001b[0;34m]\u001b[0m \u001b[0;34m=\u001b[0m \u001b[0mzip\u001b[0m\u001b[0;34m(\u001b[0m\u001b[0;34m*\u001b[0m\u001b[0mlinks\u001b[0m\u001b[0;34m[\u001b[0m\u001b[0;34m'imdbId'\u001b[0m\u001b[0;34m]\u001b[0m\u001b[0;34m.\u001b[0m\u001b[0mmap\u001b[0m\u001b[0;34m(\u001b[0m\u001b[0mmakeRequestIMDB\u001b[0m\u001b[0;34m)\u001b[0m\u001b[0;34m)\u001b[0m\u001b[0;34m\u001b[0m\u001b[0;34m\u001b[0m\u001b[0m\n\u001b[0m\u001b[1;32m      4\u001b[0m \u001b[0mlinks\u001b[0m\u001b[0;34m[\u001b[0m\u001b[0;34m'tmdb_rating'\u001b[0m\u001b[0;34m]\u001b[0m\u001b[0;34m,\u001b[0m \u001b[0mlinks\u001b[0m\u001b[0;34m[\u001b[0m\u001b[0;34m'tmdb_genre'\u001b[0m\u001b[0;34m]\u001b[0m \u001b[0;34m=\u001b[0m \u001b[0mzip\u001b[0m\u001b[0;34m(\u001b[0m\u001b[0;34m*\u001b[0m\u001b[0mlinks\u001b[0m\u001b[0;34m[\u001b[0m\u001b[0;34m'tmdbId'\u001b[0m\u001b[0;34m]\u001b[0m\u001b[0;34m.\u001b[0m\u001b[0mmap\u001b[0m\u001b[0;34m(\u001b[0m\u001b[0mmakeRequestTMDB\u001b[0m\u001b[0;34m)\u001b[0m\u001b[0;34m)\u001b[0m\u001b[0;34m\u001b[0m\u001b[0;34m\u001b[0m\u001b[0m\n\u001b[1;32m      5\u001b[0m \u001b[0mlinks\u001b[0m\u001b[0;34m.\u001b[0m\u001b[0mto_csv\u001b[0m\u001b[0;34m(\u001b[0m\u001b[0;34m'ml-latest-small/links_extraQuery.csv'\u001b[0m\u001b[0;34m,\u001b[0m\u001b[0mindex\u001b[0m\u001b[0;34m=\u001b[0m\u001b[0;32mFalse\u001b[0m\u001b[0;34m)\u001b[0m\u001b[0;34m\u001b[0m\u001b[0;34m\u001b[0m\u001b[0m\n",
      "\u001b[0;31mNameError\u001b[0m: name 'makeRequestIMDB' is not defined"
     ]
    }
   ],
   "source": [
    "links = pd.read_csv(\"links.csv\",delimiter=\",\",header=0)\n",
    "\n",
    "links['imdb_rating'], links['imdb_genre'] = zip(*links['imdbId'].map(makeRequestIMDB))\n",
    "links['tmdb_rating'], links['tmdb_genre'] = zip(*links['tmdbId'].map(makeRequestTMDB))\n",
    "links.to_csv('links_extraQuery.csv',index=False)\n",
    "\n"
   ]
  },
  {
   "cell_type": "markdown",
   "metadata": {},
   "source": [
    "Read all available data into Pandas DataFrames. Pandas provide functionality that is fast and usefull in statistical analysis."
   ]
  },
  {
   "cell_type": "code",
   "execution_count": 5,
   "metadata": {
    "pycharm": {
     "is_executing": false,
     "metadata": false,
     "name": "#%% Check New Links Database\n"
    }
   },
   "outputs": [
    {
     "data": {
      "text/html": [
       "<div>\n",
       "<style scoped>\n",
       "    .dataframe tbody tr th:only-of-type {\n",
       "        vertical-align: middle;\n",
       "    }\n",
       "\n",
       "    .dataframe tbody tr th {\n",
       "        vertical-align: top;\n",
       "    }\n",
       "\n",
       "    .dataframe thead th {\n",
       "        text-align: right;\n",
       "    }\n",
       "</style>\n",
       "<table border=\"1\" class=\"dataframe\">\n",
       "  <thead>\n",
       "    <tr style=\"text-align: right;\">\n",
       "      <th></th>\n",
       "      <th>movieId</th>\n",
       "      <th>imdbId</th>\n",
       "      <th>tmdbId</th>\n",
       "      <th>imdb_rating</th>\n",
       "      <th>imdb_genre</th>\n",
       "      <th>tmdb_rating</th>\n",
       "      <th>tmdb_genre</th>\n",
       "    </tr>\n",
       "  </thead>\n",
       "  <tbody>\n",
       "    <tr>\n",
       "      <th>9732</th>\n",
       "      <td>193565</td>\n",
       "      <td>1636780</td>\n",
       "      <td>71172.0</td>\n",
       "      <td>3.80</td>\n",
       "      <td>Animation|Action|Comedy|History|Sci-Fi</td>\n",
       "      <td>4.05</td>\n",
       "      <td>Action|Comedy|Science Fiction|Animation</td>\n",
       "    </tr>\n",
       "    <tr>\n",
       "      <th>9733</th>\n",
       "      <td>193567</td>\n",
       "      <td>2323836</td>\n",
       "      <td>255413.0</td>\n",
       "      <td>3.70</td>\n",
       "      <td>Animation|Adventure|Drama|Family|Fantasy|Myste...</td>\n",
       "      <td>3.60</td>\n",
       "      <td>Animation|Drama</td>\n",
       "    </tr>\n",
       "    <tr>\n",
       "      <th>9734</th>\n",
       "      <td>193571</td>\n",
       "      <td>3110014</td>\n",
       "      <td>297825.0</td>\n",
       "      <td>3.35</td>\n",
       "      <td>Comedy|Drama|Romance</td>\n",
       "      <td>3.40</td>\n",
       "      <td>Drama|Comedy</td>\n",
       "    </tr>\n",
       "    <tr>\n",
       "      <th>9735</th>\n",
       "      <td>193573</td>\n",
       "      <td>3837248</td>\n",
       "      <td>333623.0</td>\n",
       "      <td>3.55</td>\n",
       "      <td>Animation|Comedy|Music</td>\n",
       "      <td>3.85</td>\n",
       "      <td>Animation|Music</td>\n",
       "    </tr>\n",
       "    <tr>\n",
       "      <th>9736</th>\n",
       "      <td>193579</td>\n",
       "      <td>5342766</td>\n",
       "      <td>360617.0</td>\n",
       "      <td>3.25</td>\n",
       "      <td>Documentary</td>\n",
       "      <td>3.95</td>\n",
       "      <td>Documentary</td>\n",
       "    </tr>\n",
       "    <tr>\n",
       "      <th>9737</th>\n",
       "      <td>193581</td>\n",
       "      <td>5476944</td>\n",
       "      <td>432131.0</td>\n",
       "      <td>3.80</td>\n",
       "      <td>Animation</td>\n",
       "      <td>3.95</td>\n",
       "      <td>Action|Comedy|Fantasy|Animation</td>\n",
       "    </tr>\n",
       "    <tr>\n",
       "      <th>9738</th>\n",
       "      <td>193583</td>\n",
       "      <td>5914996</td>\n",
       "      <td>445030.0</td>\n",
       "      <td>3.75</td>\n",
       "      <td>Animation|Adventure|Comedy|Drama|Fantasy|Romance</td>\n",
       "      <td>3.75</td>\n",
       "      <td>Fantasy|Comedy|Animation</td>\n",
       "    </tr>\n",
       "    <tr>\n",
       "      <th>9739</th>\n",
       "      <td>193585</td>\n",
       "      <td>6397426</td>\n",
       "      <td>479308.0</td>\n",
       "      <td>3.00</td>\n",
       "      <td>Drama</td>\n",
       "      <td>3.05</td>\n",
       "      <td>TV Movie|Drama</td>\n",
       "    </tr>\n",
       "    <tr>\n",
       "      <th>9740</th>\n",
       "      <td>193587</td>\n",
       "      <td>8391976</td>\n",
       "      <td>483455.0</td>\n",
       "      <td>3.55</td>\n",
       "      <td>Animation</td>\n",
       "      <td>3.95</td>\n",
       "      <td>Animation|Action|Comedy|Mystery</td>\n",
       "    </tr>\n",
       "    <tr>\n",
       "      <th>9741</th>\n",
       "      <td>193609</td>\n",
       "      <td>101726</td>\n",
       "      <td>37891.0</td>\n",
       "      <td>2.70</td>\n",
       "      <td>Comedy|Documentary</td>\n",
       "      <td>3.25</td>\n",
       "      <td>Comedy</td>\n",
       "    </tr>\n",
       "  </tbody>\n",
       "</table>\n",
       "</div>"
      ],
      "text/plain": [
       "      movieId   imdbId    tmdbId  imdb_rating  \\\n",
       "9732   193565  1636780   71172.0         3.80   \n",
       "9733   193567  2323836  255413.0         3.70   \n",
       "9734   193571  3110014  297825.0         3.35   \n",
       "9735   193573  3837248  333623.0         3.55   \n",
       "9736   193579  5342766  360617.0         3.25   \n",
       "9737   193581  5476944  432131.0         3.80   \n",
       "9738   193583  5914996  445030.0         3.75   \n",
       "9739   193585  6397426  479308.0         3.00   \n",
       "9740   193587  8391976  483455.0         3.55   \n",
       "9741   193609   101726   37891.0         2.70   \n",
       "\n",
       "                                             imdb_genre  tmdb_rating  \\\n",
       "9732             Animation|Action|Comedy|History|Sci-Fi         4.05   \n",
       "9733  Animation|Adventure|Drama|Family|Fantasy|Myste...         3.60   \n",
       "9734                               Comedy|Drama|Romance         3.40   \n",
       "9735                             Animation|Comedy|Music         3.85   \n",
       "9736                                        Documentary         3.95   \n",
       "9737                                          Animation         3.95   \n",
       "9738   Animation|Adventure|Comedy|Drama|Fantasy|Romance         3.75   \n",
       "9739                                              Drama         3.05   \n",
       "9740                                          Animation         3.95   \n",
       "9741                                 Comedy|Documentary         3.25   \n",
       "\n",
       "                                   tmdb_genre  \n",
       "9732  Action|Comedy|Science Fiction|Animation  \n",
       "9733                          Animation|Drama  \n",
       "9734                             Drama|Comedy  \n",
       "9735                          Animation|Music  \n",
       "9736                              Documentary  \n",
       "9737          Action|Comedy|Fantasy|Animation  \n",
       "9738                 Fantasy|Comedy|Animation  \n",
       "9739                           TV Movie|Drama  \n",
       "9740          Animation|Action|Comedy|Mystery  \n",
       "9741                                   Comedy  "
      ]
     },
     "execution_count": 5,
     "metadata": {},
     "output_type": "execute_result"
    }
   ],
   "source": [
    "links2 = pd.read_csv(\"links_extraQuery.csv\", delimiter=\",\", header=0)\n",
    "links2.tail(10)"
   ]
  },
  {
   "cell_type": "code",
   "execution_count": 7,
   "metadata": {
    "pycharm": {
     "is_executing": false,
     "metadata": false,
     "name": "#%% Load Rest of Data\n"
    }
   },
   "outputs": [
    {
     "name": "stdout",
     "output_type": "stream",
     "text": [
      "   movieId                               title  \\\n",
      "0        1                    Toy Story (1995)   \n",
      "1        2                      Jumanji (1995)   \n",
      "2        3             Grumpier Old Men (1995)   \n",
      "3        4            Waiting to Exhale (1995)   \n",
      "4        5  Father of the Bride Part II (1995)   \n",
      "5        6                         Heat (1995)   \n",
      "6        7                      Sabrina (1995)   \n",
      "7        8                 Tom and Huck (1995)   \n",
      "8        9                 Sudden Death (1995)   \n",
      "9       10                    GoldenEye (1995)   \n",
      "\n",
      "                                        genres  \n",
      "0  Adventure|Animation|Children|Comedy|Fantasy  \n",
      "1                   Adventure|Children|Fantasy  \n",
      "2                               Comedy|Romance  \n",
      "3                         Comedy|Drama|Romance  \n",
      "4                                       Comedy  \n",
      "5                        Action|Crime|Thriller  \n",
      "6                               Comedy|Romance  \n",
      "7                           Adventure|Children  \n",
      "8                                       Action  \n",
      "9                    Action|Adventure|Thriller  \n",
      "   userId  movieId  rating  timestamp\n",
      "0       1        1     4.0  964982703\n",
      "1       1        3     4.0  964981247\n",
      "2       1        6     4.0  964982224\n",
      "3       1       47     5.0  964983815\n",
      "4       1       50     5.0  964982931\n",
      "5       1       70     3.0  964982400\n",
      "6       1      101     5.0  964980868\n",
      "7       1      110     4.0  964982176\n",
      "8       1      151     5.0  964984041\n",
      "9       1      157     5.0  964984100\n",
      "   userId  movieId                tag   timestamp\n",
      "0       2    60756              funny  1445714994\n",
      "1       2    60756    Highly quotable  1445714996\n",
      "2       2    60756       will ferrell  1445714992\n",
      "3       2    89774       Boxing story  1445715207\n",
      "4       2    89774                MMA  1445715200\n",
      "5       2    89774          Tom Hardy  1445715205\n",
      "6       2   106782              drugs  1445715054\n",
      "7       2   106782  Leonardo DiCaprio  1445715051\n",
      "8       2   106782    Martin Scorsese  1445715056\n",
      "9       7    48516       way too long  1169687325\n"
     ]
    }
   ],
   "source": [
    "movies = pd.read_csv(\"movies.csv\",delimiter=\",\",header=0)\n",
    "ratings = pd.read_csv(\"ratings.csv\",delimiter=\",\",header=0)\n",
    "tags = pd.read_csv(\"tags.csv\",delimiter=\",\",header=0,parse_dates=True)\n",
    "\n",
    "print(movies.head(10))\n",
    "print(ratings.head(10))\n",
    "print(tags.head(10))"
   ]
  },
  {
   "cell_type": "markdown",
   "metadata": {},
   "source": [
    "Calculate the average rating of each movie accrding to the MovieLens database"
   ]
  },
  {
   "cell_type": "code",
   "execution_count": 8,
   "metadata": {
    "pycharm": {
     "is_executing": false,
     "metadata": false,
     "name": "#%% Average Movie Rating\n"
    }
   },
   "outputs": [
    {
     "data": {
      "text/html": [
       "<div>\n",
       "<style scoped>\n",
       "    .dataframe tbody tr th:only-of-type {\n",
       "        vertical-align: middle;\n",
       "    }\n",
       "\n",
       "    .dataframe tbody tr th {\n",
       "        vertical-align: top;\n",
       "    }\n",
       "\n",
       "    .dataframe thead th {\n",
       "        text-align: right;\n",
       "    }\n",
       "</style>\n",
       "<table border=\"1\" class=\"dataframe\">\n",
       "  <thead>\n",
       "    <tr style=\"text-align: right;\">\n",
       "      <th></th>\n",
       "      <th>movieId</th>\n",
       "      <th>ave_rating</th>\n",
       "      <th>counts</th>\n",
       "    </tr>\n",
       "  </thead>\n",
       "  <tbody>\n",
       "    <tr>\n",
       "      <th>0</th>\n",
       "      <td>1</td>\n",
       "      <td>3.920930</td>\n",
       "      <td>215</td>\n",
       "    </tr>\n",
       "    <tr>\n",
       "      <th>1</th>\n",
       "      <td>2</td>\n",
       "      <td>3.431818</td>\n",
       "      <td>110</td>\n",
       "    </tr>\n",
       "    <tr>\n",
       "      <th>2</th>\n",
       "      <td>3</td>\n",
       "      <td>3.259615</td>\n",
       "      <td>52</td>\n",
       "    </tr>\n",
       "    <tr>\n",
       "      <th>3</th>\n",
       "      <td>4</td>\n",
       "      <td>2.357143</td>\n",
       "      <td>7</td>\n",
       "    </tr>\n",
       "    <tr>\n",
       "      <th>4</th>\n",
       "      <td>5</td>\n",
       "      <td>3.071429</td>\n",
       "      <td>49</td>\n",
       "    </tr>\n",
       "    <tr>\n",
       "      <th>...</th>\n",
       "      <td>...</td>\n",
       "      <td>...</td>\n",
       "      <td>...</td>\n",
       "    </tr>\n",
       "    <tr>\n",
       "      <th>9719</th>\n",
       "      <td>193581</td>\n",
       "      <td>4.000000</td>\n",
       "      <td>1</td>\n",
       "    </tr>\n",
       "    <tr>\n",
       "      <th>9720</th>\n",
       "      <td>193583</td>\n",
       "      <td>3.500000</td>\n",
       "      <td>1</td>\n",
       "    </tr>\n",
       "    <tr>\n",
       "      <th>9721</th>\n",
       "      <td>193585</td>\n",
       "      <td>3.500000</td>\n",
       "      <td>1</td>\n",
       "    </tr>\n",
       "    <tr>\n",
       "      <th>9722</th>\n",
       "      <td>193587</td>\n",
       "      <td>3.500000</td>\n",
       "      <td>1</td>\n",
       "    </tr>\n",
       "    <tr>\n",
       "      <th>9723</th>\n",
       "      <td>193609</td>\n",
       "      <td>4.000000</td>\n",
       "      <td>1</td>\n",
       "    </tr>\n",
       "  </tbody>\n",
       "</table>\n",
       "<p>9724 rows × 3 columns</p>\n",
       "</div>"
      ],
      "text/plain": [
       "      movieId  ave_rating  counts\n",
       "0           1    3.920930     215\n",
       "1           2    3.431818     110\n",
       "2           3    3.259615      52\n",
       "3           4    2.357143       7\n",
       "4           5    3.071429      49\n",
       "...       ...         ...     ...\n",
       "9719   193581    4.000000       1\n",
       "9720   193583    3.500000       1\n",
       "9721   193585    3.500000       1\n",
       "9722   193587    3.500000       1\n",
       "9723   193609    4.000000       1\n",
       "\n",
       "[9724 rows x 3 columns]"
      ]
     },
     "execution_count": 8,
     "metadata": {},
     "output_type": "execute_result"
    }
   ],
   "source": [
    "\n",
    "df = ratings.groupby(['movieId']).rating.agg(np.mean).reset_index(name='ave_rating')\n",
    "df2 = ratings.groupby(['movieId']).size().reset_index(name='counts')\n",
    "df.merge(df2)\n"
   ]
  },
  {
   "cell_type": "markdown",
   "metadata": {},
   "source": [
    "Make a comparison of the rating found on IMDb and TMDb to each user. We calculate how far off each user was from the IMDb and IMDb raing on average for each movie they rated. This is used to calculate the user' sreliablility since the database is still quite small. We did find there are a coupple of users that are outliers, meaning their rating was on average really far off the IMDb and TMDb rating. This can be seen below in the Box plot. The users fallin outside the wiskers are the outliers. A recomendation to remove these users from the study may be beneficial."
   ]
  },
  {
   "cell_type": "code",
   "execution_count": 9,
   "metadata": {
    "pycharm": {
     "is_executing": false,
     "metadata": false,
     "name": "#%% Rating User Deviations from IMDB and TMDB\n"
    }
   },
   "outputs": [
    {
     "data": {
      "image/png": "[encoded data removed]",
      "text/plain": [
       "<Figure size 432x288 with 1 Axes>"
      ]
     },
     "metadata": {
      "needs_background": "light"
     },
     "output_type": "display_data"
    }
   ],
   "source": [
    "df = ratings.merge(links2, how='left', on='movieId')\n",
    "df['imdb_diff'] = df['rating'] - df['imdb_rating']\n",
    "df['tmdb_diff'] = df['rating'] - df['tmdb_rating']\n",
    "df.boxplot(column=['tmdb_diff'])\n",
    "df.boxplot(column=['imdb_diff'])\n",
    "#df.groupby(['userId']).boxplot(column=['tmdb_diff'])\n",
    "df['imdb_diff_abs'] = df['imdb_diff'].abs()\n",
    "df['tmdb_diff_abs'] = df['tmdb_diff'].abs()\n",
    "df1 = df.groupby(['movieId']).imdb_diff_abs.agg(np.mean).reset_index(name='ave_imdb_diff')\n",
    "df2 = df.groupby(['movieId']).tmdb_diff_abs.agg(np.mean).reset_index(name='ave_tmdb_diff')\n",
    "df1 = df1.merge(df2)\n",
    "df3 = df.groupby(['userId']).imdb_diff_abs.agg(np.mean).reset_index(name='ave_imdb_diff')\n",
    "df4 = df.groupby(['userId']).tmdb_diff_abs.agg(np.mean).reset_index(name='ave_tmdb_diff')\n",
    "df3 = df3.merge(df4)\n",
    "df5 = df.groupby(['userId']).imdb_diff.agg([('MinRating_imdb_diff',np.min),('MaxRating_imdb_diff',np.max)])\n",
    "df6 = df.groupby(['userId']).tmdb_diff.agg([('MinRating_tmdb_diff',np.min),('MaxRating_tmdb_diff',np.max)])\n",
    "\n"
   ]
  },
  {
   "cell_type": "markdown",
   "metadata": {},
   "source": [
    "Users that should be removed reside at the top of these two DataFrames. (We did not remove any users since the assignment asked us to work with this dataset)"
   ]
  },
  {
   "cell_type": "code",
   "execution_count": 15,
   "metadata": {
    "pycharm": {
     "is_executing": false,
     "metadata": false,
     "name": "#%% Users average rating that are most different from IMDB and TMDB\n"
    }
   },
   "outputs": [
    {
     "data": {
      "text/html": [
       "<div>\n",
       "<style scoped>\n",
       "    .dataframe tbody tr th:only-of-type {\n",
       "        vertical-align: middle;\n",
       "    }\n",
       "\n",
       "    .dataframe tbody tr th {\n",
       "        vertical-align: top;\n",
       "    }\n",
       "\n",
       "    .dataframe thead th {\n",
       "        text-align: right;\n",
       "    }\n",
       "</style>\n",
       "<table border=\"1\" class=\"dataframe\">\n",
       "  <thead>\n",
       "    <tr style=\"text-align: right;\">\n",
       "      <th></th>\n",
       "      <th>userId</th>\n",
       "      <th>ave_imdb_diff</th>\n",
       "      <th>ave_tmdb_diff</th>\n",
       "    </tr>\n",
       "  </thead>\n",
       "  <tbody>\n",
       "    <tr>\n",
       "      <th>2</th>\n",
       "      <td>3</td>\n",
       "      <td>2.343421</td>\n",
       "      <td>2.330263</td>\n",
       "    </tr>\n",
       "    <tr>\n",
       "      <th>441</th>\n",
       "      <td>442</td>\n",
       "      <td>2.240000</td>\n",
       "      <td>2.152500</td>\n",
       "    </tr>\n",
       "    <tr>\n",
       "      <th>328</th>\n",
       "      <td>329</td>\n",
       "      <td>1.917391</td>\n",
       "      <td>1.865217</td>\n",
       "    </tr>\n",
       "    <tr>\n",
       "      <th>254</th>\n",
       "      <td>255</td>\n",
       "      <td>1.785227</td>\n",
       "      <td>1.715909</td>\n",
       "    </tr>\n",
       "    <tr>\n",
       "      <th>307</th>\n",
       "      <td>308</td>\n",
       "      <td>1.761304</td>\n",
       "      <td>1.679386</td>\n",
       "    </tr>\n",
       "  </tbody>\n",
       "</table>\n",
       "</div>"
      ],
      "text/plain": [
       "     userId  ave_imdb_diff  ave_tmdb_diff\n",
       "2         3       2.343421       2.330263\n",
       "441     442       2.240000       2.152500\n",
       "328     329       1.917391       1.865217\n",
       "254     255       1.785227       1.715909\n",
       "307     308       1.761304       1.679386"
      ]
     },
     "execution_count": 15,
     "metadata": {},
     "output_type": "execute_result"
    }
   ],
   "source": [
    "df7 = df3.sort_values(by=['ave_imdb_diff'], ascending=False)\n",
    "df8 = df3.sort_values(by=['ave_tmdb_diff'], ascending=False)\n",
    "df7.head()\n",
    "#we should therefore trust these users less as the rating on IMDB and TMDB come from a larger population\n"
   ]
  },
  {
   "cell_type": "markdown",
   "metadata": {},
   "source": [
    "Average Movie rating according to release year. We graph a scatter plot and a linear regression line for the ratings observed. The least quare correlation coefficient tells us that the data is not very well linearly correlated. Therefore the rating and the release year are not lineary correleted  "
   ]
  },
  {
   "cell_type": "code",
   "execution_count": 11,
   "metadata": {
    "pycharm": {
     "is_executing": false,
     "metadata": false,
     "name": "#%% Sort Dataset based on Release Data\n"
    }
   },
   "outputs": [
    {
     "name": "stdout",
     "output_type": "stream",
     "text": [
      "linear reg least squares correlation coefficient = -0.15848101192865294\n"
     ]
    },
    {
     "data": {
      "image/png": "[encoded data removed]",
      "text/plain": [
       "<Figure size 360x360 with 1 Axes>"
      ]
     },
     "metadata": {
      "needs_background": "light"
     },
     "output_type": "display_data"
    }
   ],
   "source": [
    "#linear fit\n",
    "movies['release_year'] = movies['title'].str.extract('(\\(\\d\\d\\d\\d\\))',expand=True)\n",
    "movies['release_year'] = movies['release_year'].str.extract('(\\d\\d\\d\\d)',expand=True)\n",
    "df = ratings.merge(movies,how='inner',on='movieId')\n",
    "df1 = df.groupby(['release_year']).rating.agg(np.mean).reset_index(name='ave_rating')\n",
    "df1['release_year'] = pd.to_numeric(df1['release_year'])\n",
    "sns.lmplot(x='release_year',y='ave_rating', data=df1,fit_reg=True)\n",
    "\n",
    "print(\"linear reg least squares correlation coefficient = {0}\".format(linregress(df1['release_year'],df1['ave_rating'])[2]))\n"
   ]
  },
  {
   "cell_type": "markdown",
   "metadata": {},
   "source": [
    "We fit a higher degree polinomial to the data which fits the data much better."
   ]
  },
  {
   "cell_type": "code",
   "execution_count": 12,
   "metadata": {
    "pycharm": {
     "is_executing": false,
     "metadata": false,
     "name": "#%%\n"
    }
   },
   "outputs": [
    {
     "data": {
      "image/png": "[encoded data removed]",
      "text/plain": [
       "<Figure size 432x288 with 1 Axes>"
      ]
     },
     "metadata": {
      "needs_background": "light"
     },
     "output_type": "display_data"
    }
   ],
   "source": [
    "#non linear fit\n",
    "polinomial_degree = 6\n",
    "for p in range(1,polinomial_degree):\n",
    "    z = np.polyfit(df1['release_year'],df1['ave_rating'],p)\n",
    "    f = np.poly1d(z)\n",
    "    plt.plot(df1['release_year'],f(df1['release_year']),'--', label='degree {}'.format(p))\n",
    "plt.plot(df1['release_year'],df1['ave_rating'],'.')\n",
    "plt.legend()\n",
    "plt.show()"
   ]
  },
  {
   "cell_type": "markdown",
   "metadata": {},
   "source": [
    "Calculate the average movie rating per genre. We see that horror films are rated on average lower that all other films and film-noir films are on average rated higher than all other films. There is however not a large difference between the average rating of films based on genres alone."
   ]
  },
  {
   "cell_type": "code",
   "execution_count": 13,
   "metadata": {
    "pycharm": {
     "is_executing": false,
     "metadata": false,
     "name": "#%% create a dictionary of dataFrame for each Genre\n"
    }
   },
   "outputs": [
    {
     "data": {
      "image/png": "[encoded data removed]",
      "text/plain": [
       "<Figure size 432x288 with 1 Axes>"
      ]
     },
     "metadata": {
      "needs_background": "light"
     },
     "output_type": "display_data"
    }
   ],
   "source": [
    "\n",
    "#some genres are not in the documentations - they will be left out of this study\n",
    "\n",
    "genres = ['Action','Adventure','Animation','Children','Comedy','Crime','Documentary','Drama','Fantasy',\n",
    "             'Film-Noir','Horror','Musical','Mystery','Romance','Sci-Fi','Thriller','War','Western']\n",
    "df_genres = {}\n",
    "ave_rating = {}\n",
    "for g in genres:\n",
    "    df_genres[g] = movies[movies['genres'].str.contains(g,case=True)]\n",
    "    df_genre = ratings.merge(df_genres[g],how='inner',on='movieId')\n",
    "    ave_rating[g] = df_genre['rating'].aggregate(np.mean)\n",
    "\n",
    "ave_rating = {k: v for k, v in sorted(ave_rating.items(), key=lambda item: item[1])}\n",
    "plt.bar(ave_rating.keys(),ave_rating.values())\n",
    "plt.xticks(rotation=90)\n",
    "plt.show()\n",
    "\n",
    "\n"
   ]
  },
  {
   "cell_type": "code",
   "execution_count": null,
   "metadata": {},
   "outputs": [],
   "source": []
  }
 ],
 "metadata": {
  "kernelspec": {
   "display_name": "PyCharm (MovieDB)",
   "language": "python",
   "name": "pycharm-5de6a1a2"
  },
  "language_info": {
   "codemirror_mode": {
    "name": "ipython",
    "version": 3
   },
   "file_extension": ".py",
   "mimetype": "text/x-python",
   "name": "python",
   "nbconvert_exporter": "python",
   "pygments_lexer": "ipython3",
   "version": "3.7.4"
  }
 },
 "nbformat": 4,
 "nbformat_minor": 1
}
